{
  "nbformat": 4,
  "nbformat_minor": 0,
  "metadata": {
    "colab": {
      "provenance": [],
      "authorship_tag": "ABX9TyNvGR+IbdZS3Z4laXv7T4N/",
      "include_colab_link": true
    },
    "kernelspec": {
      "name": "python3",
      "display_name": "Python 3"
    },
    "language_info": {
      "name": "python"
    }
  },
  "cells": [
    {
      "cell_type": "markdown",
      "metadata": {
        "id": "view-in-github",
        "colab_type": "text"
      },
      "source": [
        "<a href=\"https://colab.research.google.com/github/esharma3/data_structures/blob/main/data_structures_sort_algos.ipynb\" target=\"_parent\"><img src=\"https://colab.research.google.com/assets/colab-badge.svg\" alt=\"Open In Colab\"/></a>"
      ]
    },
    {
      "cell_type": "markdown",
      "source": [
        "# **BUBBLE Sort** O(n**2)\n",
        "\n",
        "Repeatedly steps through the list, compares the two adjacent elements and swaps them until the list is sorted."
      ],
      "metadata": {
        "id": "oaXDIva0JSRu"
      }
    },
    {
      "cell_type": "code",
      "source": [
        "import pandas as pd\n",
        "import numpy as np"
      ],
      "metadata": {
        "id": "dATe8lv1JWX0"
      },
      "execution_count": 1,
      "outputs": []
    },
    {
      "cell_type": "markdown",
      "source": [
        "random.randint(low, high=None, size=None, dtype=int)\n",
        "\n",
        "Return random integers from low (inclusive) to high (exclusive).\n",
        "\n",
        "Return random integers from the “discrete uniform” distribution of the specified dtype in the “half-open” interval [low, high). If high is None (the default), then results are from [0, low)."
      ],
      "metadata": {
        "id": "Z3MKE0icKK5_"
      }
    },
    {
      "cell_type": "code",
      "execution_count": 2,
      "metadata": {
        "colab": {
          "base_uri": "https://localhost:8080/"
        },
        "id": "k002TBPhlFbo",
        "outputId": "2add6f94-eb9b-44c4-9b46-f5224c075fc9"
      },
      "outputs": [
        {
          "output_type": "execute_result",
          "data": {
            "text/plain": [
              "array([4, 7, 5, 8, 5])"
            ]
          },
          "metadata": {},
          "execution_count": 2
        }
      ],
      "source": [
        "random_arr = np.random.randint(1,10,5)\n",
        "random_arr"
      ]
    },
    {
      "cell_type": "code",
      "source": [
        "def bubble_sort(arr):\n",
        "    n = len(arr)\n",
        "    for i in range(n):    # note the two for loops; with every full iteration of a single i, we push the largest element at the end\n",
        "        for j in range(n-i-1):     # for each value of i, we iterate through the whole list n-i-1 times; if i=1, then j=5-1-1=3 and push the largest element at the end & that's why we can keep skipping the last element in this inner for loop by doing j=n-i-1\n",
        "            print(\"i: \", i)\n",
        "            print(\"j: \", j)\n",
        "            if arr[j] > arr[j+1]:\n",
        "                arr[j], arr[j+1] = arr[j+1], arr[j]\n",
        "    return arr"
      ],
      "metadata": {
        "id": "9eROusA_KSfr"
      },
      "execution_count": 3,
      "outputs": []
    },
    {
      "cell_type": "code",
      "source": [
        "%%time\n",
        "print(\"original arr: \", random_arr)\n",
        "sorted_arr = bubble_sort(random_arr)\n",
        "sorted_arr"
      ],
      "metadata": {
        "colab": {
          "base_uri": "https://localhost:8080/"
        },
        "id": "eUYFApNgKuc4",
        "outputId": "4fe01f54-f7ef-43db-ea4f-faa5d33ba44f"
      },
      "execution_count": 4,
      "outputs": [
        {
          "output_type": "stream",
          "name": "stdout",
          "text": [
            "original arr:  [4 7 5 8 5]\n",
            "i:  0\n",
            "j:  0\n",
            "i:  0\n",
            "j:  1\n",
            "i:  0\n",
            "j:  2\n",
            "i:  0\n",
            "j:  3\n",
            "i:  1\n",
            "j:  0\n",
            "i:  1\n",
            "j:  1\n",
            "i:  1\n",
            "j:  2\n",
            "i:  2\n",
            "j:  0\n",
            "i:  2\n",
            "j:  1\n",
            "i:  3\n",
            "j:  0\n",
            "CPU times: user 5.03 ms, sys: 1.01 ms, total: 6.04 ms\n",
            "Wall time: 6.33 ms\n"
          ]
        },
        {
          "output_type": "execute_result",
          "data": {
            "text/plain": [
              "array([4, 5, 5, 7, 8])"
            ]
          },
          "metadata": {},
          "execution_count": 4
        }
      ]
    },
    {
      "cell_type": "code",
      "source": [
        "# same code as in the above cell but without print statement to track actual time\n",
        "def bubble_sort(arr):\n",
        "    n = len(arr)\n",
        "    for i in range(n):    # note the two for loops; with every full iteration of a single i, we push the largest element at the end\n",
        "        for j in range(n-i-1):     # for each value of i, we iterate through the whole list n-i-1 times; if i=1, then j=5-1-1=3 and push the largest element at the end & that's why we can keep skipping the last element in this inner for loop by doing j=n-i-1\n",
        "            if arr[j] > arr[j+1]:\n",
        "                arr[j], arr[j+1] = arr[j+1], arr[j]\n",
        "    return arr"
      ],
      "metadata": {
        "id": "3A6cAouIRvXw"
      },
      "execution_count": 5,
      "outputs": []
    },
    {
      "cell_type": "code",
      "source": [
        "# IMP - I cannot reuse the random input array created initially because it got sorted inplace after the first sorting was run on it; so creating a new one before each sort\n",
        "random_arr = np.random.randint(1,10,5)\n",
        "random_arr"
      ],
      "metadata": {
        "colab": {
          "base_uri": "https://localhost:8080/"
        },
        "id": "FsphRPsJXAYi",
        "outputId": "f3c65722-4df8-4f62-a626-6d4fbc60361f"
      },
      "execution_count": 6,
      "outputs": [
        {
          "output_type": "execute_result",
          "data": {
            "text/plain": [
              "array([4, 3, 4, 8, 6])"
            ]
          },
          "metadata": {},
          "execution_count": 6
        }
      ]
    },
    {
      "cell_type": "code",
      "source": [
        "%%time\n",
        "print(\"original arr: \", random_arr)\n",
        "sorted_arr = bubble_sort(random_arr)\n",
        "sorted_arr"
      ],
      "metadata": {
        "colab": {
          "base_uri": "https://localhost:8080/"
        },
        "id": "PcHnUKzjR3oO",
        "outputId": "7bcee07d-b484-42bd-cfaf-a347effe8f32"
      },
      "execution_count": 7,
      "outputs": [
        {
          "output_type": "stream",
          "name": "stdout",
          "text": [
            "original arr:  [4 3 4 8 6]\n",
            "CPU times: user 204 µs, sys: 40 µs, total: 244 µs\n",
            "Wall time: 262 µs\n"
          ]
        },
        {
          "output_type": "execute_result",
          "data": {
            "text/plain": [
              "array([3, 4, 4, 6, 8])"
            ]
          },
          "metadata": {},
          "execution_count": 7
        }
      ]
    },
    {
      "cell_type": "markdown",
      "source": [
        "# **Selection Sort** O(n**2)\n",
        "\n",
        "Repeatedly finds the minimum element from the unsorted part of the list and places that at the beginning of the list.\n",
        "\n",
        "** select the minimum element and move it at the beginning of the list."
      ],
      "metadata": {
        "id": "ucyx_LBRM7xI"
      }
    },
    {
      "cell_type": "code",
      "source": [
        "def selection_sort(arr):\n",
        "    n = len(arr)\n",
        "    for i in range(n):    # note the two for loops\n",
        "        min_index = i\n",
        "        for j in range(i+1, n):   # i+1 because i will have the minimum element, so we need to start the comparion from i+1 element always  \n",
        "            if arr[j] < arr[min_index]:\n",
        "                min_index = j\n",
        "        arr[i], arr[min_index] = arr[min_index], arr[i]   # moves the element at the new min_index(=j) to the i-th location which is the first position of the unsorted part of list & moves the initial i-th element to the previous min_index position\n",
        "    return arr"
      ],
      "metadata": {
        "id": "FmCU-y0RKxo3"
      },
      "execution_count": 8,
      "outputs": []
    },
    {
      "cell_type": "code",
      "source": [
        "# IMP - I cannot reuse the random input array created initially because it got sorted inplace after the first sorting was run on it; so creating a new one before each sort\n",
        "random_arr = np.random.randint(1,10,5)\n",
        "random_arr"
      ],
      "metadata": {
        "colab": {
          "base_uri": "https://localhost:8080/"
        },
        "id": "tBPP3wYiXSv3",
        "outputId": "f41563b1-b97d-4ad3-e249-49fb9567b0a9"
      },
      "execution_count": 9,
      "outputs": [
        {
          "output_type": "execute_result",
          "data": {
            "text/plain": [
              "array([9, 2, 6, 2, 2])"
            ]
          },
          "metadata": {},
          "execution_count": 9
        }
      ]
    },
    {
      "cell_type": "code",
      "source": [
        "%%time\n",
        "print(\"original arr: \", random_arr)\n",
        "selection_sorted_arr = selection_sort(random_arr)\n",
        "selection_sorted_arr"
      ],
      "metadata": {
        "colab": {
          "base_uri": "https://localhost:8080/"
        },
        "id": "4gcu6PLePDAh",
        "outputId": "2fc731ac-7244-4278-d307-7c61420fcc63"
      },
      "execution_count": 10,
      "outputs": [
        {
          "output_type": "stream",
          "name": "stdout",
          "text": [
            "original arr:  [9 2 6 2 2]\n",
            "CPU times: user 294 µs, sys: 1.04 ms, total: 1.34 ms\n",
            "Wall time: 1.34 ms\n"
          ]
        },
        {
          "output_type": "execute_result",
          "data": {
            "text/plain": [
              "array([2, 2, 2, 6, 9])"
            ]
          },
          "metadata": {},
          "execution_count": 10
        }
      ]
    },
    {
      "cell_type": "markdown",
      "source": [
        "# **Insertion Sort** O(n**2)\n",
        "\n",
        "It builds the final sorted list one element at a time by inserting each unsorted element into its correct position in the sorted part of the list."
      ],
      "metadata": {
        "id": "b9lx3sNDR-pu"
      }
    },
    {
      "cell_type": "code",
      "source": [
        "def insertion_sort(arr):\n",
        "    n = len(arr)\n",
        "    for i in range(1,n):\n",
        "        key = arr[i]\n",
        "        print(\"key - first element of unsorted part of list: \", key)\n",
        "\n",
        "        j = i-1\n",
        "        print(\"j: \", j)\n",
        "        print(\"arr[j] - last element of sorted part of list: \", arr[j])\n",
        "        while j >= 0 and arr[j] > key:\n",
        "            arr[j+1] = arr[j]\n",
        "            j = j-1\n",
        "        arr[j+1] = key\n",
        "        print(\"arr[j+1]: \", arr[j+1])\n",
        "    return arr"
      ],
      "metadata": {
        "id": "qSD3WeLzSUUe"
      },
      "execution_count": 11,
      "outputs": []
    },
    {
      "cell_type": "code",
      "source": [
        "# IMP - I cannot reuse the random input array created initially because it got sorted inplace after the first sorting was run on it; so creating a new one before each sort\n",
        "random_arr = np.random.randint(1,10,5)\n",
        "random_arr"
      ],
      "metadata": {
        "colab": {
          "base_uri": "https://localhost:8080/"
        },
        "id": "DNkzs5Q0XUN9",
        "outputId": "386f1b3e-9141-4eb0-ac6b-d79b0e2ab11a"
      },
      "execution_count": 12,
      "outputs": [
        {
          "output_type": "execute_result",
          "data": {
            "text/plain": [
              "array([2, 9, 3, 3, 7])"
            ]
          },
          "metadata": {},
          "execution_count": 12
        }
      ]
    },
    {
      "cell_type": "code",
      "source": [
        "print(\"original arr: \", random_arr)\n",
        "insertion_sorted_arr = insertion_sort(random_arr)\n",
        "print(\"sorted arr: \", insertion_sorted_arr)"
      ],
      "metadata": {
        "colab": {
          "base_uri": "https://localhost:8080/"
        },
        "id": "C8ks6R-MUT9N",
        "outputId": "1556bd42-d3f5-48b6-bf46-5ac6b2856c4f"
      },
      "execution_count": 13,
      "outputs": [
        {
          "output_type": "stream",
          "name": "stdout",
          "text": [
            "original arr:  [2 9 3 3 7]\n",
            "key - first element of unsorted part of list:  9\n",
            "j:  0\n",
            "arr[j] - last element of sorted part of list:  2\n",
            "arr[j+1]:  9\n",
            "key - first element of unsorted part of list:  3\n",
            "j:  1\n",
            "arr[j] - last element of sorted part of list:  9\n",
            "arr[j+1]:  3\n",
            "key - first element of unsorted part of list:  3\n",
            "j:  2\n",
            "arr[j] - last element of sorted part of list:  9\n",
            "arr[j+1]:  3\n",
            "key - first element of unsorted part of list:  7\n",
            "j:  3\n",
            "arr[j] - last element of sorted part of list:  9\n",
            "arr[j+1]:  7\n",
            "sorted arr:  [2 3 3 7 9]\n"
          ]
        }
      ]
    },
    {
      "cell_type": "markdown",
      "source": [
        "# **Merge Sort** O(n log n)"
      ],
      "metadata": {
        "id": "zrqVPLK073Ff"
      }
    },
    {
      "cell_type": "code",
      "source": [
        "def merge_sort(arr):\n",
        "    # arr = arr1.copy()\n",
        "    print(\"splitting array: \", arr)\n",
        "    if len(arr) > 1:  \n",
        "        mid = len(arr) // 2    # floor division    \n",
        "        left = arr[:mid]\n",
        "        right = arr[mid:]\n",
        "        # print(\"left: \", left)\n",
        "        # print(\"right: \", right)\n",
        "        merge_sort(left)\n",
        "        merge_sort(right)\n",
        "\n",
        "        i = j = k = 0   # index for left, right and resultant list respectively\n",
        "\n",
        "        while i < len(left) and j < len(right):  # sorting and merging is happening together here\n",
        "            if left[i] <= right[j]:\n",
        "                arr[k] = left[i]\n",
        "                i = i + 1\n",
        "            else:\n",
        "                arr[k] = right[j]\n",
        "                j = j + 1\n",
        "            k = k + 1\n",
        "\n",
        "        while i < len(left):\n",
        "            arr[k] = left[i]\n",
        "            i = i + 1\n",
        "            k = k + 1\n",
        "\n",
        "        while j < len(right):\n",
        "            arr[k] = right[j]\n",
        "            j = j + 1\n",
        "            k = k + 1\n",
        "\n",
        "    print(\"merging: \", arr)\n"
      ],
      "metadata": {
        "id": "esdDfjjCUXFC"
      },
      "execution_count": 14,
      "outputs": []
    },
    {
      "cell_type": "code",
      "source": [
        "merge_arr = np.random.randint(1, 10, 8)\n",
        "merge_arr"
      ],
      "metadata": {
        "colab": {
          "base_uri": "https://localhost:8080/"
        },
        "id": "Wx2sPbPo_h8t",
        "outputId": "4424c762-0168-4818-8875-1100efc9f101"
      },
      "execution_count": 15,
      "outputs": [
        {
          "output_type": "execute_result",
          "data": {
            "text/plain": [
              "array([5, 7, 2, 8, 2, 9, 3, 5])"
            ]
          },
          "metadata": {},
          "execution_count": 15
        }
      ]
    },
    {
      "cell_type": "code",
      "source": [
        "arr = [4, 2, 4, 1, 8, 6, 8, 9]\n",
        "nlist = [14,46,43,27,57,41,45,21,70]\n",
        "merge_sort(nlist)"
      ],
      "metadata": {
        "colab": {
          "base_uri": "https://localhost:8080/"
        },
        "id": "85SH62qepqOj",
        "outputId": "948f2a59-efb1-4df4-b1ba-7e8354c91f20"
      },
      "execution_count": 16,
      "outputs": [
        {
          "output_type": "stream",
          "name": "stdout",
          "text": [
            "splitting array:  [14, 46, 43, 27, 57, 41, 45, 21, 70]\n",
            "splitting array:  [14, 46, 43, 27]\n",
            "splitting array:  [14, 46]\n",
            "splitting array:  [14]\n",
            "merging:  [14]\n",
            "splitting array:  [46]\n",
            "merging:  [46]\n",
            "merging:  [14, 46]\n",
            "splitting array:  [43, 27]\n",
            "splitting array:  [43]\n",
            "merging:  [43]\n",
            "splitting array:  [27]\n",
            "merging:  [27]\n",
            "merging:  [27, 43]\n",
            "merging:  [14, 27, 43, 46]\n",
            "splitting array:  [57, 41, 45, 21, 70]\n",
            "splitting array:  [57, 41]\n",
            "splitting array:  [57]\n",
            "merging:  [57]\n",
            "splitting array:  [41]\n",
            "merging:  [41]\n",
            "merging:  [41, 57]\n",
            "splitting array:  [45, 21, 70]\n",
            "splitting array:  [45]\n",
            "merging:  [45]\n",
            "splitting array:  [21, 70]\n",
            "splitting array:  [21]\n",
            "merging:  [21]\n",
            "splitting array:  [70]\n",
            "merging:  [70]\n",
            "merging:  [21, 70]\n",
            "merging:  [21, 45, 70]\n",
            "merging:  [21, 41, 45, 57, 70]\n",
            "merging:  [14, 21, 27, 41, 43, 45, 46, 57, 70]\n"
          ]
        }
      ]
    },
    {
      "cell_type": "markdown",
      "source": [
        "# **Quick Sort** O(n log n)\n",
        "\n",
        "1. select a pivot element - randomly or first element or last element\n",
        "2. partition the list around the pivot, all smaller elements on the left of the pivot and all larger elements on the right of the pivot\n",
        "3. recursively apply quick sort to the sub lists until the sub lists have a length of 1 or 0\n",
        "4. combine the sorted sub lists: left + pivot + right"
      ],
      "metadata": {
        "id": "c_-NHFpXr1GV"
      }
    },
    {
      "cell_type": "code",
      "source": [
        "arr_quick = np.random.randint(1,10,8)\n",
        "arr_quick"
      ],
      "metadata": {
        "colab": {
          "base_uri": "https://localhost:8080/"
        },
        "id": "mMPzq6Jsr0mk",
        "outputId": "16e48af8-ce11-4d2f-f29f-227cacd3349c"
      },
      "execution_count": 17,
      "outputs": [
        {
          "output_type": "execute_result",
          "data": {
            "text/plain": [
              "array([8, 2, 8, 4, 8, 8, 9, 9])"
            ]
          },
          "metadata": {},
          "execution_count": 17
        }
      ]
    },
    {
      "cell_type": "code",
      "source": [
        "def quick_sort(lst):\n",
        "\n",
        "    if len(lst) <= 1:\n",
        "        return lst\n",
        "\n",
        "    pivot = lst[-1]\n",
        "    print(\"pivot\", pivot)\n",
        "    n = len(lst)\n",
        "    i = 0\n",
        "\n",
        "    for j in range(n-1):    # n-1 because we want to exclude the pivot at the last position lst[-1]\n",
        "        print(\"i \", i)\n",
        "        print(\"lst[i]\", lst[i])\n",
        "        print(\"j \", j)\n",
        "        print(\"lst[j]\", lst[j])\n",
        "        if lst[j] < pivot:\n",
        "            lst[i], lst[j] = lst[j], lst[i]\n",
        "            i = i + 1\n",
        "\n",
        "    lst[i], lst[-1] = lst[-1], lst[i]\n",
        "\n",
        "    left = quick_sort(lst[:i])\n",
        "    # print(\"left\", left)\n",
        "\n",
        "    right = quick_sort(lst[i+1:])\n",
        "    # print(\"right\", right)\n",
        "\n",
        "    return left + [lst[i]] + right"
      ],
      "metadata": {
        "id": "F1sjplePRikC"
      },
      "execution_count": 36,
      "outputs": []
    },
    {
      "cell_type": "code",
      "source": [
        "lst = [13,2,5,1,55,0, 15]\n",
        "# quick_sort(arr_quick)   # this returns empty list # this code is not working for arrays. It is onky working for lists."
      ],
      "metadata": {
        "id": "sUZHI2Ettwbv"
      },
      "execution_count": 37,
      "outputs": []
    },
    {
      "cell_type": "code",
      "source": [
        "print(\"original list \", lst)\n",
        "quick_sort(lst)"
      ],
      "metadata": {
        "colab": {
          "base_uri": "https://localhost:8080/"
        },
        "id": "fOldth5dt2mx",
        "outputId": "2b2b1b56-3906-4058-b765-c22722618c75"
      },
      "execution_count": 38,
      "outputs": [
        {
          "output_type": "stream",
          "name": "stdout",
          "text": [
            "original list  [13, 2, 5, 1, 55, 0, 15]\n",
            "pivot 15\n",
            "i  0\n",
            "lst[i] 13\n",
            "j  0\n",
            "lst[j] 13\n",
            "i  1\n",
            "lst[i] 2\n",
            "j  1\n",
            "lst[j] 2\n",
            "i  2\n",
            "lst[i] 5\n",
            "j  2\n",
            "lst[j] 5\n",
            "i  3\n",
            "lst[i] 1\n",
            "j  3\n",
            "lst[j] 1\n",
            "i  4\n",
            "lst[i] 55\n",
            "j  4\n",
            "lst[j] 55\n",
            "i  4\n",
            "lst[i] 55\n",
            "j  5\n",
            "lst[j] 0\n",
            "pivot 0\n",
            "i  0\n",
            "lst[i] 13\n",
            "j  0\n",
            "lst[j] 13\n",
            "i  0\n",
            "lst[i] 13\n",
            "j  1\n",
            "lst[j] 2\n",
            "i  0\n",
            "lst[i] 13\n",
            "j  2\n",
            "lst[j] 5\n",
            "i  0\n",
            "lst[i] 13\n",
            "j  3\n",
            "lst[j] 1\n",
            "pivot 13\n",
            "i  0\n",
            "lst[i] 2\n",
            "j  0\n",
            "lst[j] 2\n",
            "i  1\n",
            "lst[i] 5\n",
            "j  1\n",
            "lst[j] 5\n",
            "i  2\n",
            "lst[i] 1\n",
            "j  2\n",
            "lst[j] 1\n",
            "pivot 1\n",
            "i  0\n",
            "lst[i] 2\n",
            "j  0\n",
            "lst[j] 2\n",
            "i  0\n",
            "lst[i] 2\n",
            "j  1\n",
            "lst[j] 5\n",
            "pivot 2\n",
            "i  0\n",
            "lst[i] 5\n",
            "j  0\n",
            "lst[j] 5\n"
          ]
        },
        {
          "output_type": "execute_result",
          "data": {
            "text/plain": [
              "[0, 1, 2, 5, 13, 15, 55]"
            ]
          },
          "metadata": {},
          "execution_count": 38
        }
      ]
    },
    {
      "cell_type": "code",
      "source": [],
      "metadata": {
        "id": "BJRX5TPDG0WW"
      },
      "execution_count": null,
      "outputs": []
    }
  ]
}