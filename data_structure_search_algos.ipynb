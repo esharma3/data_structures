{
  "nbformat": 4,
  "nbformat_minor": 0,
  "metadata": {
    "colab": {
      "provenance": [],
      "authorship_tag": "ABX9TyPqvLa0G4Gi1DXmhQblLeTm",
      "include_colab_link": true
    },
    "kernelspec": {
      "name": "python3",
      "display_name": "Python 3"
    },
    "language_info": {
      "name": "python"
    }
  },
  "cells": [
    {
      "cell_type": "markdown",
      "metadata": {
        "id": "view-in-github",
        "colab_type": "text"
      },
      "source": [
        "<a href=\"https://colab.research.google.com/github/esharma3/data_structures/blob/main/data_structure_search_algos.ipynb\" target=\"_parent\"><img src=\"https://colab.research.google.com/assets/colab-badge.svg\" alt=\"Open In Colab\"/></a>"
      ]
    },
    {
      "cell_type": "code",
      "execution_count": null,
      "metadata": {
        "id": "BmHeB5m_QTLJ"
      },
      "outputs": [],
      "source": [
        "import pandas as pd\n",
        "import numpy as np"
      ]
    },
    {
      "cell_type": "code",
      "source": [
        "arr = np.arange(1,100, 1)   # note the last element is 99 and not 100\n",
        "print(arr)"
      ],
      "metadata": {
        "colab": {
          "base_uri": "https://localhost:8080/"
        },
        "id": "edCBkoraQbyk",
        "outputId": "91226843-d9f3-4b8e-cf05-7cf3dc4e84cc"
      },
      "execution_count": null,
      "outputs": [
        {
          "output_type": "stream",
          "name": "stdout",
          "text": [
            "[ 1  2  3  4  5  6  7  8  9 10 11 12 13 14 15 16 17 18 19 20 21 22 23 24\n",
            " 25 26 27 28 29 30 31 32 33 34 35 36 37 38 39 40 41 42 43 44 45 46 47 48\n",
            " 49 50 51 52 53 54 55 56 57 58 59 60 61 62 63 64 65 66 67 68 69 70 71 72\n",
            " 73 74 75 76 77 78 79 80 81 82 83 84 85 86 87 88 89 90 91 92 93 94 95 96\n",
            " 97 98 99]\n"
          ]
        }
      ]
    },
    {
      "cell_type": "markdown",
      "source": [
        "**NumPy arange()** is one of the array creation routines based on numerical ranges. It creates an instance of ndarray with evenly spaced values and returns the reference to it.\n",
        "\n",
        "**%time** measures execution time of the next line.\n",
        "\n",
        "**%%time** measures execution time of the whole cell.\n"
      ],
      "metadata": {
        "id": "HU_H96bvR9_k"
      }
    },
    {
      "cell_type": "markdown",
      "source": [
        "# **Linear Search**"
      ],
      "metadata": {
        "id": "imJNiS3kVvI8"
      }
    },
    {
      "cell_type": "code",
      "source": [
        "%%time\n",
        "def linear_search(ele, arr):\n",
        "    for i in range(len(arr)):\n",
        "        if arr[i] == ele:\n",
        "            print(ele, \" found at index \", i)\n",
        "            break    \n",
        "\n",
        "linear_search(98, arr)"
      ],
      "metadata": {
        "colab": {
          "base_uri": "https://localhost:8080/"
        },
        "id": "ZvD-iaHmQkM5",
        "outputId": "29f23317-9a61-45ed-96eb-44fe24201235"
      },
      "execution_count": null,
      "outputs": [
        {
          "output_type": "stream",
          "name": "stdout",
          "text": [
            "98  found at index  97\n",
            "CPU times: user 2.02 ms, sys: 0 ns, total: 2.02 ms\n",
            "Wall time: 3.02 ms\n"
          ]
        }
      ]
    },
    {
      "cell_type": "code",
      "source": [
        "%%time\n",
        "def linear_search_1(ele, arr):\n",
        "    for i in range(len(arr)):\n",
        "        if arr[i] == ele:\n",
        "            return ele, i\n",
        "    return -1\n",
        "\n",
        "linear_search_1(98, arr)\n",
        "\n",
        "# this version os faster; maybe because of the return (and no print)"
      ],
      "metadata": {
        "colab": {
          "base_uri": "https://localhost:8080/"
        },
        "id": "tDSjwxrDQ9un",
        "outputId": "3572f0f4-82a1-48f4-f2d0-52166c3a920e"
      },
      "execution_count": null,
      "outputs": [
        {
          "output_type": "stream",
          "name": "stdout",
          "text": [
            "CPU times: user 87 µs, sys: 0 ns, total: 87 µs\n",
            "Wall time: 93 µs\n"
          ]
        },
        {
          "output_type": "execute_result",
          "data": {
            "text/plain": [
              "(98, 97)"
            ]
          },
          "metadata": {},
          "execution_count": 149
        }
      ]
    },
    {
      "cell_type": "markdown",
      "source": [
        "# **Binary Search**\n",
        "\n",
        "1. sort the array/list\n",
        "2. split in two half\n",
        "3. compare the middle element with the desired element\n",
        "4. if the desired element == middle element then serach is complete, \n",
        "    if the desired element is > middle element then search in right half, \n",
        "    else search in the left half\n",
        "5. repeat the process until the desired element is found or list is exhausted"
      ],
      "metadata": {
        "id": "C8e4KJkSV5zT"
      }
    },
    {
      "cell_type": "code",
      "source": [
        "# same code as next cell but without print statements\n",
        "def binary_search(ele, arr):\n",
        "    low = 0\n",
        "    high = len(arr) - 1\n",
        "    while low <= high:   # note the condition is while based and not a for loop like in linear search\n",
        "        if mid <= len(arr):   # to prevent index out of bound error\n",
        "            mid = (low+high) // 2    # if we will use / then mid could be a decimal; that's why we are using modulo that returns floor number\n",
        "            if ele == arr[mid]:\n",
        "                return\n",
        "            elif ele > arr[mid]:\n",
        "                low = mid + 1\n",
        "            else:\n",
        "                high = mid - 1\n",
        "        return -1    # note the position of this return; if we will not have if condition if mid <= len(arr): then the final return -1 will be under the same position as while loop"
      ],
      "metadata": {
        "id": "SCV0AJczfE10"
      },
      "execution_count": null,
      "outputs": []
    },
    {
      "cell_type": "code",
      "source": [
        "# same code as above cell but with print statements\n",
        "def binary_search(ele, arr):\n",
        "    low = 0\n",
        "    high = len(arr) - 1\n",
        "    print(\"low: \", low)\n",
        "    print(\"high: \", high)\n",
        "    while low <= high:   # note the condition is while based and not a for loop like in linear search\n",
        "        mid = (low+high) // 2    # if we will use / then mid could be a decimal; that's why we are using modulo that returns floor number\n",
        "        if mid <= len(arr):   # to prevent index out of bound error\n",
        "            if ele == arr[mid]:\n",
        "                print(\"mid index: \", mid)\n",
        "                print(\"Found desired element: \", ele)\n",
        "                return\n",
        "            # desired element greater than the mid\n",
        "            elif ele > arr[mid]:\n",
        "                print(\"ele\", ele, \"is greater than mid element: \", arr[mid])\n",
        "                low = mid + 1\n",
        "                print(\"new low index: \", low)\n",
        "                print(\"new high index: \", high)\n",
        "                print(\"new low ele: \", arr[low])\n",
        "                print(\"new high ele: \", arr[high])\n",
        "            # desired element smaller than the mid\n",
        "            else:\n",
        "                print(\"ele\", ele, \"is less than mid element: \", arr[mid])\n",
        "                high = mid - 1\n",
        "                print(\"new low index: \", low)\n",
        "                print(\"new high index: \", high)\n",
        "                print(\"new low ele: \", arr[low])\n",
        "                print(\"new high ele: \", arr[high])\n",
        "        print(\"element\", ele, \"not found.\", \"final low index: \", low, \"final high index: \", high)   # note the position of this print and return\n",
        "        return -1"
      ],
      "metadata": {
        "id": "KJWnLlroUNoS"
      },
      "execution_count": null,
      "outputs": []
    },
    {
      "cell_type": "markdown",
      "source": [
        "**Floor Division(//)**\n",
        "\n",
        "Divides and returns the integer value of the quotient. It dumps the digits after the decimal."
      ],
      "metadata": {
        "id": "c4aBuyg8Y1wf"
      }
    },
    {
      "cell_type": "code",
      "source": [
        "%%time\n",
        "# note that our arr is already sorted here\n",
        "arr = np.arange(1,11,1)   # note that the last element is (stop number - 1) and not the stop number\n",
        "print(\"array: \", arr)\n",
        "binary_search(5, arr)"
      ],
      "metadata": {
        "colab": {
          "base_uri": "https://localhost:8080/"
        },
        "id": "LBHJRuJxW288",
        "outputId": "2d585f2c-04e3-4830-a968-baf91c47ac16"
      },
      "execution_count": null,
      "outputs": [
        {
          "output_type": "stream",
          "name": "stdout",
          "text": [
            "array:  [ 1  2  3  4  5  6  7  8  9 10]\n",
            "low:  0\n",
            "high:  9\n",
            "mid index:  4\n",
            "Found desired element:  5\n",
            "CPU times: user 4.98 ms, sys: 0 ns, total: 4.98 ms\n",
            "Wall time: 5.31 ms\n"
          ]
        }
      ]
    },
    {
      "cell_type": "code",
      "source": [
        "%%time\n",
        "print(\"array: \", arr)\n",
        "binary_search(-1, arr)"
      ],
      "metadata": {
        "colab": {
          "base_uri": "https://localhost:8080/"
        },
        "id": "WEoqUIAIW5dH",
        "outputId": "d1a77373-a55c-4b7f-9a5f-a7980e500800"
      },
      "execution_count": null,
      "outputs": [
        {
          "output_type": "stream",
          "name": "stdout",
          "text": [
            "array:  [ 1  2  3  4  5  6  7  8  9 10]\n",
            "low:  0\n",
            "high:  9\n",
            "ele -1 is less than mid element:  5\n",
            "new low index:  0\n",
            "new high index:  3\n",
            "new low ele:  1\n",
            "new high ele:  4\n",
            "element -1 not found. final low index:  0 final high index:  3\n",
            "CPU times: user 5.26 ms, sys: 0 ns, total: 5.26 ms\n",
            "Wall time: 5.61 ms\n"
          ]
        },
        {
          "output_type": "execute_result",
          "data": {
            "text/plain": [
              "-1"
            ]
          },
          "metadata": {},
          "execution_count": 153
        }
      ]
    },
    {
      "cell_type": "code",
      "source": [
        "%%time\n",
        "print(\"array: \", arr)\n",
        "binary_search(11, arr)"
      ],
      "metadata": {
        "colab": {
          "base_uri": "https://localhost:8080/"
        },
        "id": "TNhlP9Fdh_i7",
        "outputId": "71851987-28dd-4e11-b19c-92d00626604c"
      },
      "execution_count": null,
      "outputs": [
        {
          "output_type": "stream",
          "name": "stdout",
          "text": [
            "array:  [ 1  2  3  4  5  6  7  8  9 10]\n",
            "low:  0\n",
            "high:  9\n",
            "ele 11 is greater than mid element:  5\n",
            "new low index:  5\n",
            "new high index:  9\n",
            "new low ele:  6\n",
            "new high ele:  10\n",
            "element 11 not found. final low index:  5 final high index:  9\n",
            "CPU times: user 775 µs, sys: 0 ns, total: 775 µs\n",
            "Wall time: 787 µs\n"
          ]
        },
        {
          "output_type": "execute_result",
          "data": {
            "text/plain": [
              "-1"
            ]
          },
          "metadata": {},
          "execution_count": 154
        }
      ]
    },
    {
      "cell_type": "code",
      "source": [],
      "metadata": {
        "id": "kqbu-lYfi1Qi"
      },
      "execution_count": null,
      "outputs": []
    }
  ]
}